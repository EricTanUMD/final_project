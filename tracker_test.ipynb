{
 "cells": [
  {
   "cell_type": "code",
   "execution_count": 1,
   "metadata": {},
   "outputs": [],
   "source": [
    "%load_ext autoreload\n",
    "%autoreload 2\n",
    "import tracker\n",
    "import os"
   ]
  },
  {
   "cell_type": "code",
   "execution_count": 9,
   "metadata": {},
   "outputs": [],
   "source": [
    "my_tracker = tracker.Tracker(\"example_input.txt\")\n",
    "#print(my_tracker)"
   ]
  },
  {
   "cell_type": "code",
   "execution_count": 10,
   "metadata": {},
   "outputs": [
    {
     "name": "stdout",
     "output_type": "stream",
     "text": [
      "[[{'muscle_group': 'core', 'workout': 'push-ups', 'time': '50', 'reps': '30'}], [{'muscle_group': 'quads', 'workout': 'sit-ups', 'time': '30', 'reps': '40'}], [{'muscle_group': 'arms', 'workout': 'bicep-curl', 'time': '5', 'reps': '60'}], [], [], [], []]\n"
     ]
    }
   ],
   "source": [
    "print(my_tracker.week)\n",
    "#print(my_tracker.week[0])"
   ]
  },
  {
   "cell_type": "code",
   "execution_count": 11,
   "metadata": {},
   "outputs": [
    {
     "name": "stdout",
     "output_type": "stream",
     "text": [
      "Monday:\n",
      "Muscle Group:{'muscle_group': 'core', 'workout': 'push-ups', 'time': '50', 'reps': '30'} Workout:{'muscle_group': 'core', 'workout': 'push-ups', 'time': '50', 'reps': '30'} Time: {'muscle_group': 'core', 'workout': 'push-ups', 'time': '50', 'reps': '30'} Reps: {'muscle_group': 'core', 'workout': 'push-ups', 'time': '50', 'reps': '30'}\n",
      "Tuesday:\n",
      "Muscle Group:{'muscle_group': 'quads', 'workout': 'sit-ups', 'time': '30', 'reps': '40'} Workout:{'muscle_group': 'quads', 'workout': 'sit-ups', 'time': '30', 'reps': '40'} Time: {'muscle_group': 'quads', 'workout': 'sit-ups', 'time': '30', 'reps': '40'} Reps: {'muscle_group': 'quads', 'workout': 'sit-ups', 'time': '30', 'reps': '40'}\n",
      "Wednesday:\n",
      "Muscle Group:{'muscle_group': 'arms', 'workout': 'bicep-curl', 'time': '5', 'reps': '60'} Workout:{'muscle_group': 'arms', 'workout': 'bicep-curl', 'time': '5', 'reps': '60'} Time: {'muscle_group': 'arms', 'workout': 'bicep-curl', 'time': '5', 'reps': '60'} Reps: {'muscle_group': 'arms', 'workout': 'bicep-curl', 'time': '5', 'reps': '60'}\n",
      "Thursday:\n",
      "Friday:\n",
      "Saturday:\n",
      "Sunday:\n",
      "\n"
     ]
    }
   ],
   "source": [
    "print(str(my_tracker))"
   ]
  },
  {
   "cell_type": "code",
   "execution_count": null,
   "metadata": {},
   "outputs": [],
   "source": []
  }
 ],
 "metadata": {
  "kernelspec": {
   "display_name": "Python 3",
   "language": "python",
   "name": "python3"
  },
  "language_info": {
   "codemirror_mode": {
    "name": "ipython",
    "version": 3
   },
   "file_extension": ".py",
   "mimetype": "text/x-python",
   "name": "python",
   "nbconvert_exporter": "python",
   "pygments_lexer": "ipython3",
   "version": "3.12.1"
  }
 },
 "nbformat": 4,
 "nbformat_minor": 2
}
