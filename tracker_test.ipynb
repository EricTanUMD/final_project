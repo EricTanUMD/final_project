{
 "cells": [
  {
   "cell_type": "code",
   "execution_count": 6,
   "metadata": {},
   "outputs": [
    {
     "name": "stdout",
     "output_type": "stream",
     "text": [
      "The autoreload extension is already loaded. To reload it, use:\n",
      "  %reload_ext autoreload\n"
     ]
    }
   ],
   "source": [
    "%load_ext autoreload\n",
    "%autoreload 2\n",
    "import tracker\n",
    "import re\n",
    "import os"
   ]
  },
  {
   "cell_type": "code",
   "execution_count": 3,
   "metadata": {},
   "outputs": [],
   "source": [
    "my_tracker = tracker.Tracker(\"example_input.txt\")\n",
    "#print(my_tracker)"
   ]
  },
  {
   "cell_type": "code",
   "execution_count": 11,
   "metadata": {},
   "outputs": [
    {
     "name": "stdout",
     "output_type": "stream",
     "text": [
      "{'muscle_group': 'core', 'workout': 'push-ups', 'time': '50', 'reps': '30'}\n"
     ]
    }
   ],
   "source": [
    "# print(my_tracker.week)\n",
    "print(my_tracker.week[0][0])"
   ]
  },
  {
   "cell_type": "code",
   "execution_count": 13,
   "metadata": {},
   "outputs": [
    {
     "name": "stdout",
     "output_type": "stream",
     "text": [
      "Monday:\n",
      "Muscle Group: core Workout: push-ups Time: 50 Reps: 30\n",
      "Tuesday:\n",
      "Muscle Group: quads Workout: sit-ups Time: 30 Reps: 40\n",
      "Wednesday:\n",
      "Muscle Group: arms Workout: bicep-curl Time: 5 Reps: 60\n",
      "Thursday:\n",
      "Muscle Group: back Workout: dead liftm Time: 5 Reps: 70\n",
      "Friday:\n",
      "Saturday:\n",
      "Sunday:\n",
      "\n"
     ]
    }
   ],
   "source": [
    "print(my_tracker)"
   ]
  },
  {
   "cell_type": "code",
   "execution_count": 12,
   "metadata": {},
   "outputs": [],
   "source": [
    "# my_tracker.export_data(\"final_project\")"
   ]
  },
  {
   "cell_type": "code",
   "execution_count": null,
   "metadata": {},
   "outputs": [],
   "source": [
    "regex = r'''(?x)^\n",
    "                    (?P<muscle_group>[-\\w\\s]+)\n",
    "                    ,\n",
    "                    (?P<workout_type>[-\\w\\s]+)\n",
    "                    ,\n",
    "                    (?P<time>\\d+)\n",
    "                    ,\n",
    "                    (?P<reps>\\d+)\n",
    "                    ,\n",
    "                    (?P<day>\\w{2})\n",
    "                    '''\n"
   ]
  }
 ],
 "metadata": {
  "kernelspec": {
   "display_name": "Python 3",
   "language": "python",
   "name": "python3"
  },
  "language_info": {
   "codemirror_mode": {
    "name": "ipython",
    "version": 3
   },
   "file_extension": ".py",
   "mimetype": "text/x-python",
   "name": "python",
   "nbconvert_exporter": "python",
   "pygments_lexer": "ipython3",
   "version": "3.12.1"
  }
 },
 "nbformat": 4,
 "nbformat_minor": 2
}
